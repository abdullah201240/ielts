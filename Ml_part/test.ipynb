{
 "cells": [
  {
   "cell_type": "code",
   "execution_count": 4,
   "metadata": {},
   "outputs": [],
   "source": [
    "import joblib\n"
   ]
  },
  {
   "cell_type": "code",
   "execution_count": 2,
   "metadata": {},
   "outputs": [],
   "source": [
    "loaded_model = joblib.load('Structure_your_answers_in_logical_paragraphs_svm_model_Coherence_and_Cohesion.pkl')\n"
   ]
  },
  {
   "cell_type": "code",
   "execution_count": 3,
   "metadata": {},
   "outputs": [
    {
     "name": "stdout",
     "output_type": "stream",
     "text": [
      "Predicted output: ['No']\n"
     ]
    }
   ],
   "source": [
    "# Take individual inputs without user interaction\n",
    "input_question = \"Levels of youth crime are increasing rapidly in most cities around the world. What are the reasons for this, and suggest some solutions.\"\n",
    "input_answer = \"Nowadays crime rate in young generation is escalating worldwide in most of the cities. This could be due to unemployment and parents’ negligence towards their children and this would be best solved by taking some efforts such as government should provide more employment opportunities for graduates and parents should spend more time with their children. The first primitive reason behind crime of adolescents is scarcity of jobs. Even though youngsters have degrees, certificates of universities but due to unavailability of jobs they did not get jobs which further forces them to choose the wrong path. For example, if youth did not get a job in their required field, they will try other ways to earn money like gambling, murders. Secondly, parents are busy in their hectic schedule that they do not have time to spend with their children. Children feel neglected due to the fact that they started doing things which are harmful to their future. However, without counseling and guidance, they opt for the wrong path which would be devastating for their future. To combat the problem of crime, the government has to take steps to eliminate the issue of unemployment. In other words, there should be some part-time jobs available for youngsters so that their minds do not get distracted after completion of their studies. While parents or guardians of children should spend some time in a week so that children will not feel alone and can share their feelings and concerns with them. Thus, it increases bonding between parents and children, and they will think twice before doing any harmful activity. To conclude, it is a joint effort of the government and parents to make the next generation in good standing so that they will increase the economy of the world instead of making it a strain on the world.\"\n",
    "\n",
    "# Merge the input strings\n",
    "merged_input = input_question + ' ' + input_answer\n",
    "\n",
    "# Make a prediction using the loaded model\n",
    "prediction = loaded_model.predict([merged_input])\n",
    "\n",
    "print(\"Predicted output:\", prediction)\n"
   ]
  },
  {
   "cell_type": "code",
   "execution_count": 4,
   "metadata": {},
   "outputs": [],
   "source": [
    "loaded_model = joblib.load('svm_model_Coherence_and_Cohesion_regression.pkl')\n"
   ]
  },
  {
   "cell_type": "code",
   "execution_count": 5,
   "metadata": {},
   "outputs": [
    {
     "name": "stdout",
     "output_type": "stream",
     "text": [
      "Predicted output: [5.48758948]\n"
     ]
    }
   ],
   "source": [
    "# Take individual inputs without user interaction\n",
    "input_question = \"Levels of youth crime are increasing rapidly in most cities around the world. What are the reasons for this, and suggest some solutions.\"\n",
    "input_answer = \"Nowadays crime rate in young generation is escalating worldwide in most of the cities. This could be due to unemployment and parents’ negligence towards their children and this would be best solved by taking some efforts such as government should provide more employment opportunities for graduates and parents should spend more time with their children. The first primitive reason behind crime of adolescents is scarcity of jobs. Even though youngsters have degrees, certificates of universities but due to unavailability of jobs they did not get jobs which further forces them to choose the wrong path. For example, if youth did not get a job in their required field, they will try other ways to earn money like gambling, murders. Secondly, parents are busy in their hectic schedule that they do not have time to spend with their children. Children feel neglected due to the fact that they started doing things which are harmful to their future. However, without counseling and guidance, they opt for the wrong path which would be devastating for their future. To combat the problem of crime, the government has to take steps to eliminate the issue of unemployment. In other words, there should be some part-time jobs available for youngsters so that their minds do not get distracted after completion of their studies. While parents or guardians of children should spend some time in a week so that children will not feel alone and can share their feelings and concerns with them. Thus, it increases bonding between parents and children, and they will think twice before doing any harmful activity. To conclude, it is a joint effort of the government and parents to make the next generation in good standing so that they will increase the economy of the world instead of making it a strain on the world.\"\n",
    "\n",
    "# Merge the input strings\n",
    "merged_input = input_question + ' ' + input_answer\n",
    "\n",
    "# Make a prediction using the loaded model\n",
    "prediction = loaded_model.predict([merged_input])\n",
    "\n",
    "print(\"Predicted output:\", prediction)\n"
   ]
  },
  {
   "cell_type": "code",
   "execution_count": 6,
   "metadata": {},
   "outputs": [
    {
     "name": "stdout",
     "output_type": "stream",
     "text": [
      "Predicted output: ['Yes']\n"
     ]
    }
   ],
   "source": [
    "loaded_model = joblib.load('svm_model_Introduction_and_Conclusion_regression.pkl')\n",
    "# Take individual inputs without user interaction\n",
    "input_question = \"Levels of youth crime are increasing rapidly in most cities around the world. What are the reasons for this, and suggest some solutions.\"\n",
    "input_answer = \"Nowadays crime rate in young generation is escalating worldwide in most of the cities. This could be due to unemployment and parents’ negligence towards their children and this would be best solved by taking some efforts such as government should provide more employment opportunities for graduates and parents should spend more time with their children. The first primitive reason behind crime of adolescents is scarcity of jobs. Even though youngsters have degrees, certificates of universities but due to unavailability of jobs they did not get jobs which further forces them to choose the wrong path. For example, if youth did not get a job in their required field, they will try other ways to earn money like gambling, murders. Secondly, parents are busy in their hectic schedule that they do not have time to spend with their children. Children feel neglected due to the fact that they started doing things which are harmful to their future. However, without counseling and guidance, they opt for the wrong path which would be devastating for their future. To combat the problem of crime, the government has to take steps to eliminate the issue of unemployment. In other words, there should be some part-time jobs available for youngsters so that their minds do not get distracted after completion of their studies. While parents or guardians of children should spend some time in a week so that children will not feel alone and can share their feelings and concerns with them. Thus, it increases bonding between parents and children, and they will think twice before doing any harmful activity. To conclude, it is a joint effort of the government and parents to make the next generation in good standing so that they will increase the economy of the world instead of making it a strain on the world.\"\n",
    "\n",
    "# Merge the input strings\n",
    "merged_input = input_question + ' ' + input_answer\n",
    "\n",
    "# Make a prediction using the loaded model\n",
    "prediction = loaded_model.predict([merged_input])\n",
    "\n",
    "print(\"Predicted output:\", prediction)\n"
   ]
  },
  {
   "cell_type": "code",
   "execution_count": 7,
   "metadata": {},
   "outputs": [
    {
     "name": "stdout",
     "output_type": "stream",
     "text": [
      "Predicted output: ['No']\n"
     ]
    }
   ],
   "source": [
    "loaded_model = joblib.load('Support_main_points_with_an_explanation_and_then_an_example_svm_model_Coherence_and_Cohesion.pkl')\n",
    "# Take individual inputs without user interaction\n",
    "input_question = \"Levels of youth crime are increasing rapidly in most cities around the world. What are the reasons for this, and suggest some solutions.\"\n",
    "input_answer = \"Nowadays crime rate in young generation is escalating worldwide in most of the cities. This could be due to unemployment and parents’ negligence towards their children and this would be best solved by taking some efforts such as government should provide more employment opportunities for graduates and parents should spend more time with their children. The first primitive reason behind crime of adolescents is scarcity of jobs. Even though youngsters have degrees, certificates of universities but due to unavailability of jobs they did not get jobs which further forces them to choose the wrong path. For example, if youth did not get a job in their required field, they will try other ways to earn money like gambling, murders. Secondly, parents are busy in their hectic schedule that they do not have time to spend with their children. Children feel neglected due to the fact that they started doing things which are harmful to their future. However, without counseling and guidance, they opt for the wrong path which would be devastating for their future. To combat the problem of crime, the government has to take steps to eliminate the issue of unemployment. In other words, there should be some part-time jobs available for youngsters so that their minds do not get distracted after completion of their studies. While parents or guardians of children should spend some time in a week so that children will not feel alone and can share their feelings and concerns with them. Thus, it increases bonding between parents and children, and they will think twice before doing any harmful activity. To conclude, it is a joint effort of the government and parents to make the next generation in good standing so that they will increase the economy of the world instead of making it a strain on the world.\"\n",
    "\n",
    "# Merge the input strings\n",
    "merged_input = input_question + ' ' + input_answer\n",
    "\n",
    "# Make a prediction using the loaded model\n",
    "prediction = loaded_model.predict([merged_input])\n",
    "\n",
    "print(\"Predicted output:\", prediction)\n"
   ]
  },
  {
   "cell_type": "code",
   "execution_count": 8,
   "metadata": {},
   "outputs": [
    {
     "name": "stdout",
     "output_type": "stream",
     "text": [
      "Predicted output: ['Yes']\n"
     ]
    }
   ],
   "source": [
    "loaded_model = joblib.load('Use_cohesive_linking_words_accurately_and_appropriately_svm_model_Coherence_and_Cohesion.pkl')\n",
    "# Take individual inputs without user interaction\n",
    "input_question = \"Levels of youth crime are increasing rapidly in most cities around the world. What are the reasons for this, and suggest some solutions.\"\n",
    "input_answer = \"Nowadays crime rate in young generation is escalating worldwide in most of the cities. This could be due to unemployment and parents’ negligence towards their children and this would be best solved by taking some efforts such as government should provide more employment opportunities for graduates and parents should spend more time with their children. The first primitive reason behind crime of adolescents is scarcity of jobs. Even though youngsters have degrees, certificates of universities but due to unavailability of jobs they did not get jobs which further forces them to choose the wrong path. For example, if youth did not get a job in their required field, they will try other ways to earn money like gambling, murders. Secondly, parents are busy in their hectic schedule that they do not have time to spend with their children. Children feel neglected due to the fact that they started doing things which are harmful to their future. However, without counseling and guidance, they opt for the wrong path which would be devastating for their future. To combat the problem of crime, the government has to take steps to eliminate the issue of unemployment. In other words, there should be some part-time jobs available for youngsters so that their minds do not get distracted after completion of their studies. While parents or guardians of children should spend some time in a week so that children will not feel alone and can share their feelings and concerns with them. Thus, it increases bonding between parents and children, and they will think twice before doing any harmful activity. To conclude, it is a joint effort of the government and parents to make the next generation in good standing so that they will increase the economy of the world instead of making it a strain on the world.\"\n",
    "\n",
    "# Merge the input strings\n",
    "merged_input = input_question + ' ' + input_answer\n",
    "\n",
    "# Make a prediction using the loaded model\n",
    "prediction = loaded_model.predict([merged_input])\n",
    "\n",
    "print(\"Predicted output:\", prediction)\n"
   ]
  },
  {
   "cell_type": "code",
   "execution_count": 9,
   "metadata": {},
   "outputs": [
    {
     "name": "stdout",
     "output_type": "stream",
     "text": [
      "Predicted output: ['No']\n"
     ]
    }
   ],
   "source": [
    "loaded_model = joblib.load('Vary_your_linking_phrases_using_synonyms_svm_model_Coherence_and_Cohesion.pkl')\n",
    "# Take individual inputs without user interaction\n",
    "input_question = \"Levels of youth crime are increasing rapidly in most cities around the world. What are the reasons for this, and suggest some solutions.\"\n",
    "input_answer = \"Nowadays crime rate in young generation is escalating worldwide in most of the cities. This could be due to unemployment and parents’ negligence towards their children and this would be best solved by taking some efforts such as government should provide more employment opportunities for graduates and parents should spend more time with their children. The first primitive reason behind crime of adolescents is scarcity of jobs. Even though youngsters have degrees, certificates of universities but due to unavailability of jobs they did not get jobs which further forces them to choose the wrong path. For example, if youth did not get a job in their required field, they will try other ways to earn money like gambling, murders. Secondly, parents are busy in their hectic schedule that they do not have time to spend with their children. Children feel neglected due to the fact that they started doing things which are harmful to their future. However, without counseling and guidance, they opt for the wrong path which would be devastating for their future. To combat the problem of crime, the government has to take steps to eliminate the issue of unemployment. In other words, there should be some part-time jobs available for youngsters so that their minds do not get distracted after completion of their studies. While parents or guardians of children should spend some time in a week so that children will not feel alone and can share their feelings and concerns with them. Thus, it increases bonding between parents and children, and they will think twice before doing any harmful activity. To conclude, it is a joint effort of the government and parents to make the next generation in good standing so that they will increase the economy of the world instead of making it a strain on the world.\"\n",
    "\n",
    "# Merge the input strings\n",
    "merged_input = input_question + ' ' + input_answer\n",
    "\n",
    "# Make a prediction using the loaded model\n",
    "prediction = loaded_model.predict([merged_input])\n",
    "\n",
    "print(\"Predicted output:\", prediction)\n"
   ]
  },
  {
   "cell_type": "code",
   "execution_count": 10,
   "metadata": {},
   "outputs": [
    {
     "name": "stdout",
     "output_type": "stream",
     "text": [
      "Predicted Marks: 5.509821875593017\n"
     ]
    }
   ],
   "source": [
    "from sklearn.feature_extraction.text import TfidfVectorizer\n",
    "import joblib\n",
    "\n",
    "\n",
    "# Load the model and vectorizer for testing\n",
    "loaded_model = joblib.load('/Users/abdullahalsakib/Downloads/ielts/Ml_part/Lexical_Resource_score.joblib')\n",
    "loaded_vectorizer = joblib.load('/Users/abdullahalsakib/Downloads/ielts/Ml_part/Lexical_Resource_score_tfidf_vectorizer.joblib')\n",
    "\n",
    "# Take input for a new question and answer\n",
    "input_question = \"In the future, more people will choose to go on holiday in their own country and not travel abroad on holiday. Do you agree or disagree?\"\n",
    "input_answer = \"Convenience of modern transportation shortens the distance between places and people embark on their travel more frequently than it has ever been, whether traveling domestically or aboard become another dilemma when people planning a trip. A short joy domestic travel seems optimistic for masses. However, exotic culture and various weather which travelling aboard offered will never been found in travel at home. It is disagreed that more people will choose to spending their holiday at home instead of abroad.Compared with domestic traveling, oversea travel seems irreplaceable in terms of exotic culture experience which only available at the place of origin, for example, the folk music and operas will exclusively presented locally, such distinctive culture shows are barely found in domestic travel. Therefore, a home trip will not be a substitution of foreign traveling.Apart from culture, the differences in weather will not be observed in a home travel, for instance, tropical weather drastically differs from dessert weather which result in diversification of plants and animals. Experience in various weather and environment undoubtedly brings brand-new recognition of the world, such recognition cannot be achieved easily in home traveling, thus traveling aboard will be the only option for those who travel to retain more recognition of the world.In conclusion, the extraordinary culture experience and diversification of environment under various weather undeniably adding joy we have ever experience at home. For such reasons, it is crystal clear that travel abroad will remain trending and replacement of domestic traveling to travel abroad will not be realized.\"\n",
    "\n",
    "# Combine the new question and answer\n",
    "new_input = input_question + ' ' + input_answer\n",
    "\n",
    "# Transform the input using the loaded vectorizer\n",
    "new_input_tfidf = loaded_vectorizer.transform([new_input])\n",
    "\n",
    "# Predict the marks using the loaded model\n",
    "predicted_marks = loaded_model.predict(new_input_tfidf)\n",
    "\n",
    "# Display the predicted marks\n",
    "print(f'Predicted Marks: {predicted_marks[0]}')\n"
   ]
  },
  {
   "cell_type": "code",
   "execution_count": 3,
   "metadata": {},
   "outputs": [
    {
     "name": "stdout",
     "output_type": "stream",
     "text": [
      "Predicted output: [0]\n"
     ]
    }
   ],
   "source": [
    "loaded_model = joblib.load('/Users/abdullahalsakib/Downloads/ielts/Ml_part/Use_less_common_question_specific_words_that_accurately_convey_meaning.pkl')\n",
    "# Take individual inputs without user interaction\n",
    "input_question = \"In the future, more people will choose to go on holiday in their own country and not travel abroad on holiday. Do you agree or disagree?\"\n",
    "input_answer = \"Convenience of modern transportation shortens the distance between places and people embark on their travel more frequently than it has ever been, whether traveling domestically or aboard become another dilemma when people planning a trip. A short joy domestic travel seems optimistic for masses. However, exotic culture and various weather which travelling aboard offered will never been found in travel at home. It is disagreed that more people will choose to spending their holiday at home instead of abroad.Compared with domestic traveling, oversea travel seems irreplaceable in terms of exotic culture experience which only available at the place of origin, for example, the folk music and operas will exclusively presented locally, such distinctive culture shows are barely found in domestic travel. Therefore, a home trip will not be a substitution of foreign traveling.Apart from culture, the differences in weather will not be observed in a home travel, for instance, tropical weather drastically differs from dessert weather which result in diversification of plants and animals. Experience in various weather and environment undoubtedly brings brand-new recognition of the world, such recognition cannot be achieved easily in home traveling, thus traveling aboard will be the only option for those who travel to retain more recognition of the world.In conclusion, the extraordinary culture experience and diversification of environment under various weather undeniably adding joy we have ever experience at home. For such reasons, it is crystal clear that travel abroad will remain trending and replacement of domestic traveling to travel abroad will not be realized.\"\n",
    "\n",
    "# Merge the input strings\n",
    "merged_input = input_question + ' ' + input_answer\n",
    "\n",
    "# Make a prediction using the loaded model\n",
    "prediction = loaded_model.predict([merged_input])\n",
    "\n",
    "print(\"Predicted output:\", prediction)\n"
   ]
  },
  {
   "cell_type": "code",
   "execution_count": 12,
   "metadata": {},
   "outputs": [
    {
     "name": "stdout",
     "output_type": "stream",
     "text": [
      "Predicted output: [1]\n"
     ]
    }
   ],
   "source": [
    "loaded_model = joblib.load('/Users/abdullahalsakib/Downloads/ielts/Ml_part/Check_your_work_for_spelling_and_word_formation_mistakes.pkl')\n",
    "# Take individual inputs without user interaction\n",
    "input_question = \"In the future, more people will choose to go on holiday in their own country and not travel abroad on holiday. Do you agree or disagree?\"\n",
    "input_answer = \"Convenience of modern transportation shortens the distance between places and people embark on their travel more frequently than it has ever been, whether traveling domestically or aboard become another dilemma when people planning a trip. A short joy domestic travel seems optimistic for masses. However, exotic culture and various weather which travelling aboard offered will never been found in travel at home. It is disagreed that more people will choose to spending their holiday at home instead of abroad.Compared with domestic traveling, oversea travel seems irreplaceable in terms of exotic culture experience which only available at the place of origin, for example, the folk music and operas will exclusively presented locally, such distinctive culture shows are barely found in domestic travel. Therefore, a home trip will not be a substitution of foreign traveling.Apart from culture, the differences in weather will not be observed in a home travel, for instance, tropical weather drastically differs from dessert weather which result in diversification of plants and animals. Experience in various weather and environment undoubtedly brings brand-new recognition of the world, such recognition cannot be achieved easily in home traveling, thus traveling aboard will be the only option for those who travel to retain more recognition of the world.In conclusion, the extraordinary culture experience and diversification of environment under various weather undeniably adding joy we have ever experience at home. For such reasons, it is crystal clear that travel abroad will remain trending and replacement of domestic traveling to travel abroad will not be realized.\"\n",
    "\n",
    "# Merge the input strings\n",
    "merged_input = input_question + ' ' + input_answer\n",
    "\n",
    "# Make a prediction using the loaded model\n",
    "prediction = loaded_model.predict([merged_input])\n",
    "\n",
    "print(\"Predicted output:\", prediction)\n"
   ]
  },
  {
   "cell_type": "code",
   "execution_count": 13,
   "metadata": {},
   "outputs": [
    {
     "name": "stdout",
     "output_type": "stream",
     "text": [
      "Predicted output: ['No']\n"
     ]
    }
   ],
   "source": [
    "loaded_model = joblib.load('/Users/abdullahalsakib/Downloads/ielts/Ml_part/Try_to_vary_your_vocabulary_using_accurate_synonyms.pkl')\n",
    "input_question = \"In the future, more people will choose to go on holiday in their own country and not travel abroad on holiday. Do you agree or disagree?\"\n",
    "input_answer = \"Convenience of modern transportation shortens the distance between places and people embark on their travel more frequently than it has ever been, whether traveling domestically or aboard become another dilemma when people planning a trip. A short joy domestic travel seems optimistic for masses. However, exotic culture and various weather which travelling aboard offered will never been found in travel at home. It is disagreed that more people will choose to spending their holiday at home instead of abroad.Compared with domestic traveling, oversea travel seems irreplaceable in terms of exotic culture experience which only available at the place of origin, for example, the folk music and operas will exclusively presented locally, such distinctive culture shows are barely found in domestic travel. Therefore, a home trip will not be a substitution of foreign traveling.Apart from culture, the differences in weather will not be observed in a home travel, for instance, tropical weather drastically differs from dessert weather which result in diversification of plants and animals. Experience in various weather and environment undoubtedly brings brand-new recognition of the world, such recognition cannot be achieved easily in home traveling, thus traveling aboard will be the only option for those who travel to retain more recognition of the world.In conclusion, the extraordinary culture experience and diversification of environment under various weather undeniably adding joy we have ever experience at home. For such reasons, it is crystal clear that travel abroad will remain trending and replacement of domestic traveling to travel abroad will not be realized.\"\n",
    "\n",
    "merged_input = input_question + ' ' + input_answer\n",
    "\n",
    "prediction = loaded_model.predict([merged_input])\n",
    "\n",
    "print(\"Predicted output:\", prediction)\n"
   ]
  },
  {
   "cell_type": "code",
   "execution_count": 5,
   "metadata": {},
   "outputs": [
    {
     "name": "stdout",
     "output_type": "stream",
     "text": [
      "Predicted output: [0]\n"
     ]
    }
   ],
   "source": [
    "loaded_model = joblib.load('/Users/abdullahalsakib/Downloads/ielts/Ml_part/Use_a_variety_of_complex_and_simple_sentences.pkl')\n",
    "input_question = \"In the future, more people will choose to go on holiday in their own country and not travel abroad on holiday. Do you agree or disagree?\"\n",
    "input_answer = \"Convenience of modern transportation shortens the distance between places and people embark on their travel more frequently than it has ever been, whether traveling domestically or aboard become another dilemma when people planning a trip. A short joy domestic travel seems optimistic for masses. However, exotic culture and various weather which travelling aboard offered will never been found in travel at home. It is disagreed that more people will choose to spending their holiday at home instead of abroad.Compared with domestic traveling, oversea travel seems irreplaceable in terms of exotic culture experience which only available at the place of origin, for example, the folk music and operas will exclusively presented locally, such distinctive culture shows are barely found in domestic travel. Therefore, a home trip will not be a substitution of foreign traveling.Apart from culture, the differences in weather will not be observed in a home travel, for instance, tropical weather drastically differs from dessert weather which result in diversification of plants and animals. Experience in various weather and environment undoubtedly brings brand-new recognition of the world, such recognition cannot be achieved easily in home traveling, thus traveling aboard will be the only option for those who travel to retain more recognition of the world.In conclusion, the extraordinary culture experience and diversification of environment under various weather undeniably adding joy we have ever experience at home. For such reasons, it is crystal clear that travel abroad will remain trending and replacement of domestic traveling to travel abroad will not be realized.\"\n",
    "\n",
    "merged_input = input_question + ' ' + input_answer\n",
    "\n",
    "prediction = loaded_model.predict([merged_input])\n",
    "\n",
    "print(\"Predicted output:\", prediction)\n"
   ]
  },
  {
   "cell_type": "code",
   "execution_count": null,
   "metadata": {},
   "outputs": [],
   "source": []
  },
  {
   "cell_type": "code",
   "execution_count": 6,
   "metadata": {},
   "outputs": [
    {
     "name": "stdout",
     "output_type": "stream",
     "text": [
      "Predicted output: [1]\n"
     ]
    }
   ],
   "source": [
    "loaded_model = joblib.load('/Users/abdullahalsakib/Downloads/ielts/Ml_part/Check_your_writing_for_errors.pkl')\n",
    "input_question = \"In the future, more people will choose to go on holiday in their own country and not travel abroad on holiday. Do you agree or disagree?\"\n",
    "input_answer = \"Convenience of modern transportation shortens the distance between places and people embark on their travel more frequently than it has ever been, whether traveling domestically or aboard become another dilemma when people planning a trip. A short joy domestic travel seems optimistic for masses. However, exotic culture and various weather which travelling aboard offered will never been found in travel at home. It is disagreed that more people will choose to spending their holiday at home instead of abroad.Compared with domestic traveling, oversea travel seems irreplaceable in terms of exotic culture experience which only available at the place of origin, for example, the folk music and operas will exclusively presented locally, such distinctive culture shows are barely found in domestic travel. Therefore, a home trip will not be a substitution of foreign traveling.Apart from culture, the differences in weather will not be observed in a home travel, for instance, tropical weather drastically differs from dessert weather which result in diversification of plants and animals. Experience in various weather and environment undoubtedly brings brand-new recognition of the world, such recognition cannot be achieved easily in home traveling, thus traveling aboard will be the only option for those who travel to retain more recognition of the world.In conclusion, the extraordinary culture experience and diversification of environment under various weather undeniably adding joy we have ever experience at home. For such reasons, it is crystal clear that travel abroad will remain trending and replacement of domestic traveling to travel abroad will not be realized.\"\n",
    "\n",
    "merged_input = input_question + ' ' + input_answer\n",
    "\n",
    "prediction = loaded_model.predict([merged_input])\n",
    "\n",
    "print(\"Predicted output:\", prediction)\n"
   ]
  },
  {
   "cell_type": "code",
   "execution_count": 7,
   "metadata": {},
   "outputs": [
    {
     "name": "stdout",
     "output_type": "stream",
     "text": [
      "Predicted Marks: 6.399850595246766\n"
     ]
    }
   ],
   "source": [
    "from sklearn.feature_extraction.text import TfidfVectorizer\n",
    "import joblib\n",
    "\n",
    "\n",
    "# Load the model and vectorizer for testing\n",
    "loaded_model = joblib.load('/Users/abdullahalsakib/Downloads/ielts/Ml_part/Grammatical_Range_score.joblib')\n",
    "loaded_vectorizer = joblib.load('/Users/abdullahalsakib/Downloads/ielts/Ml_part/Grammatical_Range_score_tfidf_vectorizer.joblib')\n",
    "\n",
    "# Take input for a new question and answer\n",
    "input_question = \"In the future, more people will choose to go on holiday in their own country and not travel abroad on holiday. Do you agree or disagree?\"\n",
    "input_answer = \"Convenience of modern transportation shortens the distance between places and people embark on their travel more frequently than it has ever been, whether traveling domestically or aboard become another dilemma when people planning a trip. A short joy domestic travel seems optimistic for masses. However, exotic culture and various weather which travelling aboard offered will never been found in travel at home. It is disagreed that more people will choose to spending their holiday at home instead of abroad.Compared with domestic traveling, oversea travel seems irreplaceable in terms of exotic culture experience which only available at the place of origin, for example, the folk music and operas will exclusively presented locally, such distinctive culture shows are barely found in domestic travel. Therefore, a home trip will not be a substitution of foreign traveling.Apart from culture, the differences in weather will not be observed in a home travel, for instance, tropical weather drastically differs from dessert weather which result in diversification of plants and animals. Experience in various weather and environment undoubtedly brings brand-new recognition of the world, such recognition cannot be achieved easily in home traveling, thus traveling aboard will be the only option for those who travel to retain more recognition of the world.In conclusion, the extraordinary culture experience and diversification of environment under various weather undeniably adding joy we have ever experience at home. For such reasons, it is crystal clear that travel abroad will remain trending and replacement of domestic traveling to travel abroad will not be realized.\"\n",
    "\n",
    "# Combine the new question and answer\n",
    "new_input = input_question + ' ' + input_answer\n",
    "\n",
    "# Transform the input using the loaded vectorizer\n",
    "new_input_tfidf = loaded_vectorizer.transform([new_input])\n",
    "\n",
    "# Predict the marks using the loaded model\n",
    "predicted_marks = loaded_model.predict(new_input_tfidf)\n",
    "\n",
    "# Display the predicted marks\n",
    "print(f'Predicted Marks: {predicted_marks[0]}')\n"
   ]
  },
  {
   "cell_type": "code",
   "execution_count": 8,
   "metadata": {},
   "outputs": [
    {
     "name": "stdout",
     "output_type": "stream",
     "text": [
      "Predicted output: [1]\n"
     ]
    }
   ],
   "source": [
    "loaded_model = joblib.load('/Users/abdullahalsakib/Downloads/ielts/Ml_part/Answer_all_parts_of_the_question.pkl')\n",
    "input_question = \"In the future, more people will choose to go on holiday in their own country and not travel abroad on holiday. Do you agree or disagree?\"\n",
    "input_answer = \"Convenience of modern transportation shortens the distance between places and people embark on their travel more frequently than it has ever been, whether traveling domestically or aboard become another dilemma when people planning a trip. A short joy domestic travel seems optimistic for masses. However, exotic culture and various weather which travelling aboard offered will never been found in travel at home. It is disagreed that more people will choose to spending their holiday at home instead of abroad.Compared with domestic traveling, oversea travel seems irreplaceable in terms of exotic culture experience which only available at the place of origin, for example, the folk music and operas will exclusively presented locally, such distinctive culture shows are barely found in domestic travel. Therefore, a home trip will not be a substitution of foreign traveling.Apart from culture, the differences in weather will not be observed in a home travel, for instance, tropical weather drastically differs from dessert weather which result in diversification of plants and animals. Experience in various weather and environment undoubtedly brings brand-new recognition of the world, such recognition cannot be achieved easily in home traveling, thus traveling aboard will be the only option for those who travel to retain more recognition of the world.In conclusion, the extraordinary culture experience and diversification of environment under various weather undeniably adding joy we have ever experience at home. For such reasons, it is crystal clear that travel abroad will remain trending and replacement of domestic traveling to travel abroad will not be realized.\"\n",
    "\n",
    "merged_input = input_question + ' ' + input_answer\n",
    "\n",
    "prediction = loaded_model.predict([merged_input])\n",
    "\n",
    "print(\"Predicted output:\", prediction)\n"
   ]
  },
  {
   "cell_type": "code",
   "execution_count": null,
   "metadata": {},
   "outputs": [],
   "source": []
  }
 ],
 "metadata": {
  "kernelspec": {
   "display_name": "base",
   "language": "python",
   "name": "python3"
  },
  "language_info": {
   "codemirror_mode": {
    "name": "ipython",
    "version": 3
   },
   "file_extension": ".py",
   "mimetype": "text/x-python",
   "name": "python",
   "nbconvert_exporter": "python",
   "pygments_lexer": "ipython3",
   "version": "3.10.9"
  },
  "orig_nbformat": 4
 },
 "nbformat": 4,
 "nbformat_minor": 2
}
