{
 "cells": [
  {
   "cell_type": "code",
   "execution_count": 12,
   "metadata": {},
   "outputs": [
    {
     "name": "stdout",
     "output_type": "stream",
     "text": [
      "Best parameters found: {'svm__C': 0.1, 'svm__gamma': 0.1, 'svm__kernel': 'rbf', 'tfidf__max_features': 5000, 'tfidf__ngram_range': (1, 1)}\n",
      "Classification Report:\n",
      "              precision    recall  f1-score   support\n",
      "\n",
      "           0       1.00      1.00      1.00        70\n",
      "\n",
      "    accuracy                           1.00        70\n",
      "   macro avg       1.00      1.00      1.00        70\n",
      "weighted avg       1.00      1.00      1.00        70\n",
      "\n"
     ]
    }
   ],
   "source": [
    "import pandas as pd\n",
    "from sklearn.model_selection import train_test_split, GridSearchCV\n",
    "from sklearn.feature_extraction.text import TfidfVectorizer\n",
    "from sklearn.svm import SVC\n",
    "from sklearn.pipeline import Pipeline\n",
    "from sklearn.metrics import classification_report\n",
    "from sklearn.preprocessing import LabelEncoder\n",
    "\n",
    "df = pd.read_csv('/Users/abdullahalsakib/Downloads/ielts/Ml_part/Grammatical_Range.csv')\n",
    "X = df['question'] + ' ' + df['answer']  \n",
    "y = df['Use_a_variety_of_complex_and_simple_sentences']  \n",
    "\n",
    "# Use LabelEncoder for multi-class classification\n",
    "label_encoder = LabelEncoder()\n",
    "y = label_encoder.fit_transform(y)\n",
    "\n",
    "X_train, X_test, y_train, y_test = train_test_split(X, y, test_size=0.2, random_state=42)\n",
    "\n",
    "svm_pipeline = Pipeline([\n",
    "    ('tfidf', TfidfVectorizer(max_features=5000, stop_words='english')),\n",
    "    ('svm', SVC())\n",
    "])\n",
    "\n",
    "param_grid = {\n",
    "    'tfidf__max_features': [5000, 10000, None],\n",
    "    'tfidf__ngram_range': [(1, 1), (1, 2)],\n",
    "    'svm__C': [0.1, 1, 10],\n",
    "    'svm__kernel': ['rbf'],\n",
    "    'svm__gamma': [0.1, 1, 'auto']\n",
    "}\n",
    "\n",
    "grid_search = GridSearchCV(svm_pipeline, param_grid, cv=5, n_jobs=-1)\n",
    "grid_search.fit(X_train, y_train)\n",
    "\n",
    "print(\"Best parameters found:\", grid_search.best_params_)\n",
    "\n",
    "predictions = grid_search.predict(X_test)\n",
    "print(\"Classification Report:\")\n",
    "print(classification_report(y_test, predictions))\n"
   ]
  },
  {
   "cell_type": "code",
   "execution_count": 15,
   "metadata": {},
   "outputs": [
    {
     "data": {
      "text/plain": [
       "['Use_a_variety_of_complex_and_simple_sentences.pkl']"
      ]
     },
     "execution_count": 15,
     "metadata": {},
     "output_type": "execute_result"
    }
   ],
   "source": [
    "import joblib\n",
    "best_model = grid_search.best_estimator_\n",
    "joblib.dump(best_model, 'Use_a_variety_of_complex_and_simple_sentences.pkl')"
   ]
  },
  {
   "cell_type": "code",
   "execution_count": 16,
   "metadata": {},
   "outputs": [
    {
     "name": "stdout",
     "output_type": "stream",
     "text": [
      "Best parameters found: {'svm__C': 10, 'svm__gamma': 0.1, 'svm__kernel': 'rbf', 'tfidf__max_features': 5000, 'tfidf__ngram_range': (1, 1)}\n",
      "Classification Report:\n",
      "              precision    recall  f1-score   support\n",
      "\n",
      "           0       0.67      0.47      0.55        17\n",
      "           1       0.84      0.92      0.88        53\n",
      "\n",
      "    accuracy                           0.81        70\n",
      "   macro avg       0.76      0.70      0.72        70\n",
      "weighted avg       0.80      0.81      0.80        70\n",
      "\n"
     ]
    }
   ],
   "source": [
    "import pandas as pd\n",
    "from sklearn.model_selection import train_test_split, GridSearchCV\n",
    "from sklearn.feature_extraction.text import TfidfVectorizer\n",
    "from sklearn.svm import SVC\n",
    "from sklearn.pipeline import Pipeline\n",
    "from sklearn.metrics import classification_report\n",
    "from sklearn.preprocessing import LabelEncoder\n",
    "\n",
    "df = pd.read_csv('/Users/abdullahalsakib/Downloads/ielts/Ml_part/Grammatical_Range.csv')\n",
    "X = df['question'] + ' ' + df['answer']  \n",
    "y = df['Check_your_writing_for_errors']  \n",
    "\n",
    "# Use LabelEncoder for multi-class classification\n",
    "label_encoder = LabelEncoder()\n",
    "y = label_encoder.fit_transform(y)\n",
    "\n",
    "X_train, X_test, y_train, y_test = train_test_split(X, y, test_size=0.2, random_state=42)\n",
    "\n",
    "svm_pipeline = Pipeline([\n",
    "    ('tfidf', TfidfVectorizer(max_features=5000, stop_words='english')),\n",
    "    ('svm', SVC())\n",
    "])\n",
    "\n",
    "param_grid = {\n",
    "    'tfidf__max_features': [5000, 10000, None],\n",
    "    'tfidf__ngram_range': [(1, 1), (1, 2)],\n",
    "    'svm__C': [0.1, 1, 10],\n",
    "    'svm__kernel': ['rbf'],\n",
    "    'svm__gamma': [0.1, 1, 'auto']\n",
    "}\n",
    "\n",
    "grid_search = GridSearchCV(svm_pipeline, param_grid, cv=5, n_jobs=-1)\n",
    "grid_search.fit(X_train, y_train)\n",
    "\n",
    "print(\"Best parameters found:\", grid_search.best_params_)\n",
    "\n",
    "predictions = grid_search.predict(X_test)\n",
    "print(\"Classification Report:\")\n",
    "print(classification_report(y_test, predictions))\n"
   ]
  },
  {
   "cell_type": "code",
   "execution_count": 17,
   "metadata": {},
   "outputs": [
    {
     "data": {
      "text/plain": [
       "['Check_your_writing_for_errors.pkl']"
      ]
     },
     "execution_count": 17,
     "metadata": {},
     "output_type": "execute_result"
    }
   ],
   "source": [
    "import joblib\n",
    "best_model = grid_search.best_estimator_\n",
    "joblib.dump(best_model, 'Check_your_writing_for_errors.pkl')"
   ]
  },
  {
   "cell_type": "code",
   "execution_count": 18,
   "metadata": {},
   "outputs": [
    {
     "name": "stdout",
     "output_type": "stream",
     "text": [
      "Best Parameters: {'C': 10, 'gamma': 0.01, 'kernel': 'rbf'}\n",
      "Cross-Validation Scores: [ 0.09694739  0.16128137  0.07061384  0.06434243 -0.13185831]\n",
      "Mean Squared Error: 0.08827159156663184\n"
     ]
    }
   ],
   "source": [
    "import pandas as pd\n",
    "from sklearn.model_selection import train_test_split, GridSearchCV, cross_val_score\n",
    "from sklearn.feature_extraction.text import TfidfVectorizer\n",
    "from sklearn.svm import SVR\n",
    "from sklearn.metrics import mean_squared_error\n",
    "import joblib\n",
    "\n",
    "df = pd.read_csv('/Users/abdullahalsakib/Downloads/ielts/Ml_part/Grammatical_Range.csv')\n",
    "X = df['question'] + ' ' + df['answer']\n",
    "y = df['score']\n",
    "\n",
    "X_train, X_test, y_train, y_test = train_test_split(X, y, test_size=0.2, random_state=42)\n",
    "\n",
    "# TfidfVectorizer\n",
    "vectorizer = TfidfVectorizer()\n",
    "X_train_tfidf = vectorizer.fit_transform(X_train)\n",
    "X_test_tfidf = vectorizer.transform(X_test)\n",
    "\n",
    "# GridSearchCV for SVR\n",
    "param_grid = {'C': [0.1, 1, 10, 100], 'gamma': [0.01, 0.1, 1, 'auto'], 'kernel': ['linear', 'rbf', 'poly']}\n",
    "grid_search = GridSearchCV(SVR(), param_grid, cv=5)\n",
    "grid_search.fit(X_train_tfidf, y_train)\n",
    "\n",
    "best_params = grid_search.best_params_\n",
    "print(f'Best Parameters: {best_params}')\n",
    "\n",
    "final_svm_model = SVR(**best_params)\n",
    "final_svm_model.fit(X_train_tfidf, y_train)\n",
    "\n",
    "# Cross-validation scores\n",
    "cross_val_scores = cross_val_score(final_svm_model, X_train_tfidf, y_train, cv=5)\n",
    "print(f'Cross-Validation Scores: {cross_val_scores}')\n",
    "\n",
    "# Prediction and evaluation\n",
    "y_pred = final_svm_model.predict(X_test_tfidf)\n",
    "mse = mean_squared_error(y_test, y_pred)\n",
    "print(f'Mean Squared Error: {mse}')\n"
   ]
  },
  {
   "cell_type": "code",
   "execution_count": 19,
   "metadata": {},
   "outputs": [
    {
     "name": "stdout",
     "output_type": "stream",
     "text": [
      "Model saved successfully.\n"
     ]
    }
   ],
   "source": [
    "joblib.dump(final_svm_model, 'Grammatical_Range_score.joblib')\n",
    "print('Model saved successfully.')"
   ]
  },
  {
   "cell_type": "code",
   "execution_count": 20,
   "metadata": {},
   "outputs": [
    {
     "data": {
      "text/plain": [
       "['Grammatical_Range_score_tfidf_vectorizer.joblib']"
      ]
     },
     "execution_count": 20,
     "metadata": {},
     "output_type": "execute_result"
    }
   ],
   "source": [
    "joblib.dump(vectorizer, 'Grammatical_Range_score_tfidf_vectorizer.joblib')\n"
   ]
  }
 ],
 "metadata": {
  "kernelspec": {
   "display_name": "base",
   "language": "python",
   "name": "python3"
  },
  "language_info": {
   "codemirror_mode": {
    "name": "ipython",
    "version": 3
   },
   "file_extension": ".py",
   "mimetype": "text/x-python",
   "name": "python",
   "nbconvert_exporter": "python",
   "pygments_lexer": "ipython3",
   "version": "3.10.9"
  },
  "orig_nbformat": 4
 },
 "nbformat": 4,
 "nbformat_minor": 2
}
