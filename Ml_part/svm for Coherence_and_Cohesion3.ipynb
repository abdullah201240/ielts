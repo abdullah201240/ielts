{
 "cells": [
  {
   "cell_type": "code",
   "execution_count": 2,
   "metadata": {},
   "outputs": [
    {
     "name": "stdout",
     "output_type": "stream",
     "text": [
      "Best parameters found: {'svm__C': 1, 'svm__gamma': 1, 'svm__kernel': 'rbf', 'tfidf__max_features': None, 'tfidf__ngram_range': (1, 2)}\n",
      "Mean Squared Error: 0.24061093764278943\n",
      "Predicted output (score): [0.51029673]\n"
     ]
    }
   ],
   "source": [
    "import pandas as pd\n",
    "from sklearn.model_selection import train_test_split, GridSearchCV\n",
    "from sklearn.feature_extraction.text import TfidfVectorizer\n",
    "from sklearn.svm import SVR  # SVR for regression\n",
    "from sklearn.pipeline import Pipeline\n",
    "from sklearn.metrics import mean_squared_error\n",
    "import joblib\n",
    "\n",
    "# Load the dataset\n",
    "df = pd.read_csv('Coherence_and_Cohesion.csv')\n",
    "\n",
    "# Concatenate 'question' and 'answer' columns to form the input features\n",
    "X = df['question'] + ' ' + df['answer']\n",
    "\n",
    "# Convert 'Include_an_introduction_and_conclusion' to numeric values\n",
    "df['Include_an_introduction_and_conclusion'] = df['Include_an_introduction_and_conclusion'].map({'No': 0, 'Yes': 1})\n",
    "\n",
    "# Extract target variable for 'Include_an_introduction_and_conclusion' column\n",
    "y = df['Include_an_introduction_and_conclusion']\n",
    "\n",
    "# Split the data into train and test sets\n",
    "X_train, X_test, y_train, y_test = train_test_split(X, y, test_size=0.2, random_state=42)\n",
    "\n",
    "# Define the pipeline for regression\n",
    "svm_pipeline = Pipeline([\n",
    "    ('tfidf', TfidfVectorizer(max_features=5000, stop_words='english')),\n",
    "    ('svm', SVR())  # SVR for regression\n",
    "])\n",
    "\n",
    "# Define hyperparameters to search\n",
    "param_grid = {\n",
    "    'tfidf__max_features': [5000, 10000, None],\n",
    "    'tfidf__ngram_range': [(1, 1), (1, 2)],\n",
    "    'svm__C': [0.1, 1, 10],\n",
    "    'svm__kernel': ['rbf'],\n",
    "    'svm__gamma': [0.1, 1, 'auto']\n",
    "}\n",
    "\n",
    "# Train the model\n",
    "grid_search = GridSearchCV(svm_pipeline, param_grid, cv=5, n_jobs=-1)\n",
    "grid_search.fit(X_train, y_train)  # Use entire 'Include_an_introduction_and_conclusion' column\n",
    "\n",
    "# Print the best parameters\n",
    "print(\"Best parameters found:\", grid_search.best_params_)\n",
    "\n",
    "# Make predictions on the test set\n",
    "predictions = grid_search.predict(X_test)\n",
    "\n",
    "# Evaluate the regression model (for example, using mean squared error)\n",
    "mse = mean_squared_error(y_test, predictions)\n",
    "print(\"Mean Squared Error:\", mse)\n",
    "\n",
    "# Save the best model\n",
    "best_model = grid_search.best_estimator_\n",
    "joblib.dump(best_model, 'svm_model_Introduction_and_Conclusion_regression.pkl')\n",
    "\n",
    "# Load the model\n",
    "loaded_model = joblib.load('svm_model_Introduction_and_Conclusion_regression.pkl')\n",
    "\n",
    "# Take individual inputs\n",
    "input_question = input(\"Levels of youth crime are increasing rapidly in most cities around the world. What are the reasons for this, and suggest some solutions.\")\n",
    "input_answer = input(\"Nowadays crime rate in young generation is escalating worldwide in most of the cities. This could be due to unemployment and parents’ negligence towards their children and this would be best solved by taking some efforts such as government should provide more employment opportunities for graduates and parents should spend more time with their children.The first primitive reason behind crime of adolescents is scarcity of jobs. Even though youngsters have degrees, certificates of universities but due to unavailability of jobs they did not get jobs which further forces them to choose wrong path. For example, if youth did not get job in their required field, they will try other ways to earn money like gambling, murders. Secondly, parents are busy in their hectic schedule that the do not have time to spend with their children. Children feel neglected due to the fact that they started doing things which are harmful for their future. However, without counselling and guidance they opt wrong path which would be devastated for their future.To combat the problem of crime, government have to take steps to eliminate the issue of unemployment. In other words, there should be some part time jobs available for youngsters so that their mind does not get distracted after completion of their studies. While parents or guardians of children should spend some time in a week so that children will not feel alone and share their feelings and concerns with them. Thus, it increases bonding between parents and children, and they will think twice before doing any harmful activity,To conclude, it is a joint effort of government and parents to make the next generation in good standing so that they will increase the economy of world instead of making it a strain on the world.\")\n",
    "\n",
    "\n",
    "# Merge the input strings\n",
    "merged_input = input_question + ' ' + input_answer\n",
    "\n",
    "# Make predictions using the loaded regression model\n",
    "prediction = loaded_model.predict([merged_input])\n",
    "\n",
    "print(\"Predicted output (score):\", prediction)\n"
   ]
  }
 ],
 "metadata": {
  "kernelspec": {
   "display_name": "base",
   "language": "python",
   "name": "python3"
  },
  "language_info": {
   "codemirror_mode": {
    "name": "ipython",
    "version": 3
   },
   "file_extension": ".py",
   "mimetype": "text/x-python",
   "name": "python",
   "nbconvert_exporter": "python",
   "pygments_lexer": "ipython3",
   "version": "3.10.9"
  },
  "orig_nbformat": 4
 },
 "nbformat": 4,
 "nbformat_minor": 2
}
